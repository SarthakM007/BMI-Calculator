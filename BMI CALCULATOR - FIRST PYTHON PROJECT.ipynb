{
 "cells": [
  {
   "cell_type": "code",
   "execution_count": 6,
   "id": "e67b789c",
   "metadata": {},
   "outputs": [
    {
     "name": "stdout",
     "output_type": "stream",
     "text": [
      "Enter your name: ss\n",
      "Enter your weight (in kgs) : 69\n",
      "Enter your height (in metres) : 1.675\n",
      "24.593450657161952\n",
      "ss, You're are normal weight.\n"
     ]
    }
   ],
   "source": [
    "name = input(\"Enter your name: \")\n",
    "weight = float(input(\"Enter your weight (in kgs) : \"))\n",
    "height = float(input(\"Enter your height (in metres) : \"))\n",
    "BMI = (weight)/ (height*height)\n",
    "print(BMI)\n",
    "\n",
    "if (BMI>0):\n",
    "    if (BMI<18.5):\n",
    "        print (name + \", You're underweight.\")\n",
    "    elif (BMI<24.9):\n",
    "        print(name + \", You're are normal weight.\")\n",
    "    elif (BMI<29.9):\n",
    "        print (name + \", You're overweight.\")\n",
    "    elif (BMI<34.9):\n",
    "        print (name + \", You're obese.\")\n",
    "    elif (BMI<39.9):\n",
    "        print (name + \", You're severely obese.\")\n",
    "    else:\n",
    "        print (name + \", You're morbidly obese.\")\n",
    "    \n",
    "else:\n",
    "    print (\"Enter Valid Data.\")"
   ]
  },
  {
   "cell_type": "code",
   "execution_count": null,
   "id": "dccb0c8d",
   "metadata": {},
   "outputs": [],
   "source": []
  },
  {
   "cell_type": "code",
   "execution_count": null,
   "id": "9088e3ea",
   "metadata": {},
   "outputs": [],
   "source": []
  },
  {
   "cell_type": "code",
   "execution_count": null,
   "id": "ff29b86c",
   "metadata": {},
   "outputs": [],
   "source": []
  },
  {
   "cell_type": "code",
   "execution_count": null,
   "id": "259204d1",
   "metadata": {},
   "outputs": [],
   "source": []
  }
 ],
 "metadata": {
  "kernelspec": {
   "display_name": "Python 3 (ipykernel)",
   "language": "python",
   "name": "python3"
  },
  "language_info": {
   "codemirror_mode": {
    "name": "ipython",
    "version": 3
   },
   "file_extension": ".py",
   "mimetype": "text/x-python",
   "name": "python",
   "nbconvert_exporter": "python",
   "pygments_lexer": "ipython3",
   "version": "3.11.7"
  }
 },
 "nbformat": 4,
 "nbformat_minor": 5
}
